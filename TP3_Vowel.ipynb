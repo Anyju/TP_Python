{
 "cells": [
  {
   "cell_type": "markdown",
   "metadata": {},
   "source": [
    "# TP 3.  Analyse du dataset Vowel\n",
    "\n",
    "<img src=\"http://media.giphy.com/media/citBl9yPwnUOs/giphy.gif\"  width=\"300\">"
   ]
  },
  {
   "cell_type": "markdown",
   "metadata": {},
   "source": [
    "## Plan :\n",
    "\n",
    "   [- Statistiques descriptives](#1)\n",
    "   \n",
    "   [- Naive Bayes / LDA / QDA](#2)\n",
    "   \n",
    "   [- k-NN](#3)\n",
    "   \n",
    "   [- Decision tree](#4)"
   ]
  },
  {
   "cell_type": "code",
   "execution_count": 1,
   "metadata": {},
   "outputs": [],
   "source": [
    "import numpy as np\n",
    "\n",
    "import matplotlib.pyplot as plt\n",
    "from matplotlib.colors import ListedColormap\n",
    "%matplotlib inline\n",
    "\n",
    "import pandas as pd\n",
    "import seaborn as sns"
   ]
  },
  {
   "cell_type": "markdown",
   "metadata": {},
   "source": [
    "Adresse pour charger les données:\n",
    "\n",
    "https://web.stanford.edu/~hastie/ElemStatLearn/data.html\n",
    "\n",
    "Les mettre au format csv et les placer dans le même dossier que votre fichier Python."
   ]
  },
  {
   "cell_type": "code",
   "execution_count": 24,
   "metadata": {},
   "outputs": [],
   "source": [
    "train_load = pd.read_csv('vowel.train.csv', sep=',')\n",
    "test_load = pd.read_csv('vowel.test.csv', sep=',')"
   ]
  },
  {
   "cell_type": "code",
   "execution_count": 25,
   "metadata": {},
   "outputs": [],
   "source": [
    "train = train_load.iloc[:,1:12]\n",
    "test = test_load.iloc[:,1:12]"
   ]
  },
  {
   "cell_type": "code",
   "execution_count": 28,
   "metadata": {},
   "outputs": [],
   "source": [
    "train.data = train.iloc[:,1:11]\n",
    "train.target = train.iloc[:,0]\n",
    "test.data = test.iloc[:,1:11]\n",
    "test.target = test.iloc[:,0]"
   ]
  },
  {
   "cell_type": "markdown",
   "metadata": {},
   "source": [
    "<img src=\"http://media.giphy.com/media/ASd0Ukj0y3qMM/giphy.gif\" width = 300>\n",
    "<a id=\"1\"></a> \n",
    " \n",
    "# 1. Statistiques descriptives\n"
   ]
  },
  {
   "cell_type": "code",
   "execution_count": 29,
   "metadata": {},
   "outputs": [
    {
     "data": {
      "text/plain": [
       "(528, 11)"
      ]
     },
     "execution_count": 29,
     "metadata": {},
     "output_type": "execute_result"
    }
   ],
   "source": [
    "train.shape"
   ]
  },
  {
   "cell_type": "code",
   "execution_count": 30,
   "metadata": {},
   "outputs": [
    {
     "data": {
      "text/plain": [
       "(462, 10)"
      ]
     },
     "execution_count": 30,
     "metadata": {},
     "output_type": "execute_result"
    }
   ],
   "source": [
    "test.data.shape"
   ]
  },
  {
   "cell_type": "code",
   "execution_count": 32,
   "metadata": {
    "scrolled": true
   },
   "outputs": [
    {
     "data": {
      "text/html": [
       "<div>\n",
       "<style scoped>\n",
       "    .dataframe tbody tr th:only-of-type {\n",
       "        vertical-align: middle;\n",
       "    }\n",
       "\n",
       "    .dataframe tbody tr th {\n",
       "        vertical-align: top;\n",
       "    }\n",
       "\n",
       "    .dataframe thead th {\n",
       "        text-align: right;\n",
       "    }\n",
       "</style>\n",
       "<table border=\"1\" class=\"dataframe\">\n",
       "  <thead>\n",
       "    <tr style=\"text-align: right;\">\n",
       "      <th></th>\n",
       "      <th>y</th>\n",
       "      <th>x.1</th>\n",
       "      <th>x.2</th>\n",
       "      <th>x.3</th>\n",
       "      <th>x.4</th>\n",
       "      <th>x.5</th>\n",
       "      <th>x.6</th>\n",
       "      <th>x.7</th>\n",
       "      <th>x.8</th>\n",
       "      <th>x.9</th>\n",
       "      <th>x.10</th>\n",
       "    </tr>\n",
       "  </thead>\n",
       "  <tbody>\n",
       "    <tr>\n",
       "      <th>count</th>\n",
       "      <td>528.000000</td>\n",
       "      <td>528.000000</td>\n",
       "      <td>528.000000</td>\n",
       "      <td>528.000000</td>\n",
       "      <td>528.000000</td>\n",
       "      <td>528.000000</td>\n",
       "      <td>528.000000</td>\n",
       "      <td>528.000000</td>\n",
       "      <td>528.000000</td>\n",
       "      <td>528.000000</td>\n",
       "      <td>528.000000</td>\n",
       "    </tr>\n",
       "    <tr>\n",
       "      <th>mean</th>\n",
       "      <td>6.000000</td>\n",
       "      <td>-3.166695</td>\n",
       "      <td>1.735343</td>\n",
       "      <td>-0.448002</td>\n",
       "      <td>0.524983</td>\n",
       "      <td>-0.389280</td>\n",
       "      <td>0.584960</td>\n",
       "      <td>0.017477</td>\n",
       "      <td>0.417394</td>\n",
       "      <td>-0.268112</td>\n",
       "      <td>-0.084568</td>\n",
       "    </tr>\n",
       "    <tr>\n",
       "      <th>std</th>\n",
       "      <td>3.165277</td>\n",
       "      <td>0.957965</td>\n",
       "      <td>1.160970</td>\n",
       "      <td>0.741363</td>\n",
       "      <td>0.769361</td>\n",
       "      <td>0.722011</td>\n",
       "      <td>0.648547</td>\n",
       "      <td>0.479254</td>\n",
       "      <td>0.595580</td>\n",
       "      <td>0.619584</td>\n",
       "      <td>0.560317</td>\n",
       "    </tr>\n",
       "    <tr>\n",
       "      <th>min</th>\n",
       "      <td>1.000000</td>\n",
       "      <td>-5.211000</td>\n",
       "      <td>-1.274000</td>\n",
       "      <td>-2.487000</td>\n",
       "      <td>-1.409000</td>\n",
       "      <td>-2.127000</td>\n",
       "      <td>-0.836000</td>\n",
       "      <td>-1.537000</td>\n",
       "      <td>-1.293000</td>\n",
       "      <td>-1.613000</td>\n",
       "      <td>-1.680000</td>\n",
       "    </tr>\n",
       "    <tr>\n",
       "      <th>25%</th>\n",
       "      <td>3.000000</td>\n",
       "      <td>-3.923000</td>\n",
       "      <td>0.916750</td>\n",
       "      <td>-0.945500</td>\n",
       "      <td>-0.083500</td>\n",
       "      <td>-0.930750</td>\n",
       "      <td>0.108500</td>\n",
       "      <td>-0.297000</td>\n",
       "      <td>-0.018250</td>\n",
       "      <td>-0.673750</td>\n",
       "      <td>-0.507000</td>\n",
       "    </tr>\n",
       "    <tr>\n",
       "      <th>50%</th>\n",
       "      <td>6.000000</td>\n",
       "      <td>-3.097000</td>\n",
       "      <td>1.733000</td>\n",
       "      <td>-0.502500</td>\n",
       "      <td>0.456500</td>\n",
       "      <td>-0.417000</td>\n",
       "      <td>0.527500</td>\n",
       "      <td>0.040000</td>\n",
       "      <td>0.477000</td>\n",
       "      <td>-0.255000</td>\n",
       "      <td>-0.082500</td>\n",
       "    </tr>\n",
       "    <tr>\n",
       "      <th>75%</th>\n",
       "      <td>9.000000</td>\n",
       "      <td>-2.511750</td>\n",
       "      <td>2.403750</td>\n",
       "      <td>0.049250</td>\n",
       "      <td>1.164000</td>\n",
       "      <td>0.115500</td>\n",
       "      <td>1.009750</td>\n",
       "      <td>0.348000</td>\n",
       "      <td>0.861250</td>\n",
       "      <td>0.137500</td>\n",
       "      <td>0.301000</td>\n",
       "    </tr>\n",
       "    <tr>\n",
       "      <th>max</th>\n",
       "      <td>11.000000</td>\n",
       "      <td>-0.941000</td>\n",
       "      <td>5.074000</td>\n",
       "      <td>1.413000</td>\n",
       "      <td>2.191000</td>\n",
       "      <td>1.831000</td>\n",
       "      <td>2.327000</td>\n",
       "      <td>1.403000</td>\n",
       "      <td>1.673000</td>\n",
       "      <td>1.309000</td>\n",
       "      <td>1.396000</td>\n",
       "    </tr>\n",
       "  </tbody>\n",
       "</table>\n",
       "</div>"
      ],
      "text/plain": [
       "                y         x.1         x.2         x.3         x.4         x.5  \\\n",
       "count  528.000000  528.000000  528.000000  528.000000  528.000000  528.000000   \n",
       "mean     6.000000   -3.166695    1.735343   -0.448002    0.524983   -0.389280   \n",
       "std      3.165277    0.957965    1.160970    0.741363    0.769361    0.722011   \n",
       "min      1.000000   -5.211000   -1.274000   -2.487000   -1.409000   -2.127000   \n",
       "25%      3.000000   -3.923000    0.916750   -0.945500   -0.083500   -0.930750   \n",
       "50%      6.000000   -3.097000    1.733000   -0.502500    0.456500   -0.417000   \n",
       "75%      9.000000   -2.511750    2.403750    0.049250    1.164000    0.115500   \n",
       "max     11.000000   -0.941000    5.074000    1.413000    2.191000    1.831000   \n",
       "\n",
       "              x.6         x.7         x.8         x.9        x.10  \n",
       "count  528.000000  528.000000  528.000000  528.000000  528.000000  \n",
       "mean     0.584960    0.017477    0.417394   -0.268112   -0.084568  \n",
       "std      0.648547    0.479254    0.595580    0.619584    0.560317  \n",
       "min     -0.836000   -1.537000   -1.293000   -1.613000   -1.680000  \n",
       "25%      0.108500   -0.297000   -0.018250   -0.673750   -0.507000  \n",
       "50%      0.527500    0.040000    0.477000   -0.255000   -0.082500  \n",
       "75%      1.009750    0.348000    0.861250    0.137500    0.301000  \n",
       "max      2.327000    1.403000    1.673000    1.309000    1.396000  "
      ]
     },
     "execution_count": 32,
     "metadata": {},
     "output_type": "execute_result"
    }
   ],
   "source": [
    "train.describe()"
   ]
  },
  {
   "cell_type": "code",
   "execution_count": null,
   "metadata": {},
   "outputs": [],
   "source": []
  },
  {
   "cell_type": "code",
   "execution_count": 33,
   "metadata": {
    "scrolled": true
   },
   "outputs": [
    {
     "data": {
      "image/png": "[encoded data removed]",
      "text/plain": [
       "<matplotlib.figure.Figure at 0xd6875f8>"
      ]
     },
     "metadata": {},
     "output_type": "display_data"
    }
   ],
   "source": [
    "color = dict(boxes='DarkGreen', whiskers='DarkOrange', medians='DarkBlue', caps='Gray')\n",
    "train.data.plot.box(color=color, sym='r+');"
   ]
  },
  {
   "cell_type": "code",
   "execution_count": 34,
   "metadata": {},
   "outputs": [
    {
     "data": {
      "image/png": "[encoded data removed]",
      "text/plain": [
       "<matplotlib.figure.Figure at 0xda3ed30>"
      ]
     },
     "metadata": {},
     "output_type": "display_data"
    }
   ],
   "source": [
    "fig = plt.figure(figsize=(10,5))\n",
    "for k in range(0,10):\n",
    "    f = fig.add_subplot(3,4,k+1)\n",
    "    f.hist(train.data.iloc[:,k], bins = 25);"
   ]
  },
  {
   "cell_type": "code",
   "execution_count": 35,
   "metadata": {},
   "outputs": [
    {
     "data": {
      "image/png": "[encoded data removed]",
      "text/plain": [
       "<matplotlib.figure.Figure at 0xee3e518>"
      ]
     },
     "metadata": {},
     "output_type": "display_data"
    }
   ],
   "source": [
    "f, ax = plt.subplots(figsize=(8, 8))\n",
    "corr = train.data.corr()\n",
    "sns.heatmap(corr, mask=np.zeros_like(corr, dtype=np.bool), cmap=sns.diverging_palette(220, 10, as_cmap=True),\n",
    "            square=True, ax=ax);"
   ]
  },
  {
   "cell_type": "code",
   "execution_count": null,
   "metadata": {
    "collapsed": true
   },
   "outputs": [],
   "source": []
  },
  {
   "cell_type": "markdown",
   "metadata": {},
   "source": [
    "<img src=\"http://media0.giphy.com/media/3BRDkVjKikYW4/giphy.gif\" width = 300>\n",
    "<a id=\"2\"></a> \n",
    " \n",
    "# 2. Naive Bayes / LDA / QDA"
   ]
  },
  {
   "cell_type": "markdown",
   "metadata": {},
   "source": [
    "Test de normalité"
   ]
  },
  {
   "cell_type": "code",
   "execution_count": 43,
   "metadata": {},
   "outputs": [
    {
     "data": {
      "text/plain": [
       "NormaltestResult(statistic=3.5472836868475657, pvalue=0.1697137909454354)"
      ]
     },
     "execution_count": 43,
     "metadata": {},
     "output_type": "execute_result"
    }
   ],
   "source": [
    "import scipy.stats as stats\n",
    "u = stats.norm.rvs(size = 100000)\n",
    "stats.normaltest(u)"
   ]
  },
  {
   "cell_type": "code",
   "execution_count": 44,
   "metadata": {},
   "outputs": [
    {
     "data": {
      "text/plain": [
       "NormaltestResult(statistic=4.036231082716128, pvalue=0.13290568450772544)"
      ]
     },
     "execution_count": 44,
     "metadata": {},
     "output_type": "execute_result"
    }
   ],
   "source": [
    "v = stats.uniform.rvs(size = 40)\n",
    "stats.normaltest(v)"
   ]
  },
  {
   "cell_type": "code",
   "execution_count": 45,
   "metadata": {},
   "outputs": [
    {
     "data": {
      "text/plain": [
       "NormaltestResult(statistic=3.9640376489359554, pvalue=0.13779078092818814)"
      ]
     },
     "execution_count": 45,
     "metadata": {},
     "output_type": "execute_result"
    }
   ],
   "source": [
    "stats.normaltest(train.data.iloc[:,1])"
   ]
  },
  {
   "cell_type": "markdown",
   "metadata": {},
   "source": [
    "A FAIRE : TEST de normalité pour toutes les colonnes et y"
   ]
  },
  {
   "cell_type": "code",
   "execution_count": null,
   "metadata": {},
   "outputs": [],
   "source": []
  },
  {
   "cell_type": "code",
   "execution_count": 46,
   "metadata": {},
   "outputs": [],
   "source": [
    "from sklearn.naive_bayes import GaussianNB\n",
    "from sklearn.discriminant_analysis import LinearDiscriminantAnalysis\n",
    "from sklearn.discriminant_analysis import QuadraticDiscriminantAnalysis\n",
    "gnb = GaussianNB()\n",
    "LDA = LinearDiscriminantAnalysis()\n",
    "QDA = QuadraticDiscriminantAnalysis()"
   ]
  },
  {
   "cell_type": "code",
   "execution_count": 47,
   "metadata": {},
   "outputs": [
    {
     "name": "stdout",
     "output_type": "stream",
     "text": [
      "Number of mislabeled points out of a total 462 points : 249\n"
     ]
    }
   ],
   "source": [
    "y_pred = gnb.fit(train.data, train.target).predict(test.data)\n",
    "print(\"Number of mislabeled points out of a total %d points : %d\"\n",
    "       % (test.data.shape[0],(test.target != y_pred).sum()))"
   ]
  },
  {
   "cell_type": "code",
   "execution_count": 49,
   "metadata": {},
   "outputs": [
    {
     "data": {
      "text/plain": [
       "53.896103896103895"
      ]
     },
     "execution_count": 49,
     "metadata": {},
     "output_type": "execute_result"
    }
   ],
   "source": [
    "(test.target != y_pred).sum()/float(test.data.shape[0])*100"
   ]
  },
  {
   "cell_type": "code",
   "execution_count": 50,
   "metadata": {},
   "outputs": [
    {
     "data": {
      "text/plain": [
       "55.62770562770562"
      ]
     },
     "execution_count": 50,
     "metadata": {},
     "output_type": "execute_result"
    }
   ],
   "source": [
    "y_pred = LDA.fit(train.data, train.target).predict(test.data)\n",
    "(test.target != y_pred).sum()/float(test.data.shape[0])*100"
   ]
  },
  {
   "cell_type": "code",
   "execution_count": 51,
   "metadata": {},
   "outputs": [
    {
     "data": {
      "text/plain": [
       "52.81385281385281"
      ]
     },
     "execution_count": 51,
     "metadata": {},
     "output_type": "execute_result"
    }
   ],
   "source": [
    "y_pred = QDA.fit(train.data, train.target).predict(test.data)\n",
    "(test.target != y_pred).sum()/float(test.data.shape[0])*100"
   ]
  },
  {
   "cell_type": "code",
   "execution_count": 53,
   "metadata": {},
   "outputs": [
    {
     "data": {
      "text/plain": [
       "[0.11904761904761904,\n",
       " 0.47619047619047616,\n",
       " 0.7142857142857143,\n",
       " 0.7142857142857143,\n",
       " 0.6190476190476191,\n",
       " 0.47619047619047616,\n",
       " 0.47619047619047616,\n",
       " 0.8571428571428571,\n",
       " 0.09523809523809523,\n",
       " 0.7380952380952381,\n",
       " 0.5238095238095238]"
      ]
     },
     "execution_count": 53,
     "metadata": {},
     "output_type": "execute_result"
    }
   ],
   "source": [
    "errors = []\n",
    "for k in range(0,11):\n",
    "    errors.append((y_pred[k::11] != test.target[k::11]).sum()/float(len(y_pred[k::11])))\n",
    "errors"
   ]
  },
  {
   "cell_type": "code",
   "execution_count": 54,
   "metadata": {},
   "outputs": [
    {
     "data": {
      "text/plain": [
       "<Container object of 11 artists>"
      ]
     },
     "execution_count": 54,
     "metadata": {},
     "output_type": "execute_result"
    },
    {
     "data": {
      "image/png": "[encoded data removed]",
      "text/plain": [
       "<matplotlib.figure.Figure at 0x10080e48>"
      ]
     },
     "metadata": {},
     "output_type": "display_data"
    }
   ],
   "source": [
    "plt.bar(range(1,len(errors)+1), errors, align='center')"
   ]
  },
  {
   "cell_type": "code",
   "execution_count": null,
   "metadata": {
    "collapsed": true
   },
   "outputs": [],
   "source": []
  },
  {
   "cell_type": "markdown",
   "metadata": {},
   "source": [
    "<img src=\"http://media3.giphy.com/media/eNTxLwTGW7E64/giphy.gif\" width = 300>\n",
    "<a id=\"3\"></a> \n",
    " \n",
    "# 3. k-NN"
   ]
  },
  {
   "cell_type": "code",
   "execution_count": 55,
   "metadata": {},
   "outputs": [
    {
     "data": {
      "text/plain": [
       "KNeighborsClassifier(algorithm='auto', leaf_size=30, metric='minkowski',\n",
       "           metric_params=None, n_jobs=1, n_neighbors=3, p=2,\n",
       "           weights='uniform')"
      ]
     },
     "execution_count": 55,
     "metadata": {},
     "output_type": "execute_result"
    }
   ],
   "source": [
    "from sklearn import neighbors\n",
    "knn = neighbors.KNeighborsClassifier(n_neighbors=3)\n",
    "knn.fit(train.data, train.target)"
   ]
  },
  {
   "cell_type": "code",
   "execution_count": 56,
   "metadata": {},
   "outputs": [
    {
     "name": "stdout",
     "output_type": "stream",
     "text": [
      "Erreur: 0.435065\n"
     ]
    }
   ],
   "source": [
    "error = 1 - knn.score(test.data, test.target)\n",
    "print('Erreur: %f' % error)"
   ]
  },
  {
   "cell_type": "code",
   "execution_count": 57,
   "metadata": {},
   "outputs": [
    {
     "data": {
      "image/png": "[encoded data removed]",
      "text/plain": [
       "<matplotlib.figure.Figure at 0xda57898>"
      ]
     },
     "metadata": {},
     "output_type": "display_data"
    }
   ],
   "source": [
    "errors2 = []\n",
    "\n",
    "for k in range(2,15):\n",
    "    knn = neighbors.KNeighborsClassifier(k)\n",
    "    errors2.append(100*(1 - knn.fit(train.data, train.target).score(test.data, test.target)))\n",
    "\n",
    "plt.plot(range(2,15), errors2, 'o-')\n",
    "plt.show()"
   ]
  },
  {
   "cell_type": "code",
   "execution_count": null,
   "metadata": {},
   "outputs": [],
   "source": []
  },
  {
   "cell_type": "code",
   "execution_count": 58,
   "metadata": {},
   "outputs": [
    {
     "data": {
      "text/plain": [
       "[38.095238095238095,\n",
       " 26.190476190476186,\n",
       " 9.523809523809524,\n",
       " 35.71428571428571,\n",
       " 42.85714285714286,\n",
       " 42.85714285714286,\n",
       " 52.38095238095239,\n",
       " 19.047619047619047,\n",
       " 66.66666666666667,\n",
       " 69.04761904761905,\n",
       " 28.57142857142857]"
      ]
     },
     "execution_count": 58,
     "metadata": {},
     "output_type": "execute_result"
    }
   ],
   "source": [
    "errorsKNN = []\n",
    "\n",
    "knn = neighbors.KNeighborsClassifier(6)\n",
    "knn = knn.fit(train.data, train.target)\n",
    "\n",
    "for k in range(0,11):\n",
    "    errorsKNN.append(100*(1 - knn.score(test.data[k::11], test.target[k::11])))\n",
    "\n",
    "errorsKNN"
   ]
  },
  {
   "cell_type": "code",
   "execution_count": 59,
   "metadata": {},
   "outputs": [
    {
     "name": "stdout",
     "output_type": "stream",
     "text": [
      "[11.9047619  47.61904762 71.42857143 71.42857143 61.9047619  47.61904762\n",
      " 47.61904762 85.71428571  9.52380952 73.80952381 52.38095238]\n",
      "[38.0952381  26.19047619  9.52380952 35.71428571 42.85714286 42.85714286\n",
      " 52.38095238 19.04761905 66.66666667 69.04761905 28.57142857]\n"
     ]
    }
   ],
   "source": [
    "errors2 = np.array(errors)*100\n",
    "errorsKNN2 = np.array(errorsKNN)\n",
    "print(errors2)\n",
    "print(errorsKNN2)"
   ]
  },
  {
   "cell_type": "code",
   "execution_count": 60,
   "metadata": {},
   "outputs": [
    {
     "data": {
      "text/plain": [
       "array([ 26.19047619, -21.42857143, -61.9047619 , -35.71428571,\n",
       "       -19.04761905,  -4.76190476,   4.76190476, -66.66666667,\n",
       "        57.14285714,  -4.76190476, -23.80952381])"
      ]
     },
     "execution_count": 60,
     "metadata": {},
     "output_type": "execute_result"
    }
   ],
   "source": [
    "errorsKNN2-errors2"
   ]
  },
  {
   "cell_type": "markdown",
   "metadata": {},
   "source": [
    "<img src=\"http://media1.giphy.com/media/hbd8nlok7kqnS/giphy.gif\" width = 300>\n",
    "<a id=\"4\"></a> \n",
    " \n",
    "# 4. Decision tree"
   ]
  },
  {
   "cell_type": "markdown",
   "metadata": {
    "collapsed": true
   },
   "source": [
    "On pourra s'aider de la documentation suivante :\n",
    "\n",
    "http://scikit-learn.org/stable/modules/tree.html"
   ]
  },
  {
   "cell_type": "code",
   "execution_count": 75,
   "metadata": {},
   "outputs": [
    {
     "name": "stdout",
     "output_type": "stream",
     "text": [
      "['woman']\n"
     ]
    }
   ],
   "source": [
    "from sklearn import tree                                                        \n",
    "clf = tree.DecisionTreeClassifier()                                                                                                                      \n",
    "#[height, hair-length, voice-pitch]                                             \n",
    "X = [ [180, 15,0],                                                              \n",
    "      [167, 42,1],                                                              \n",
    "      [136, 35,1],                                                              \n",
    "      [174, 15,0],                                                              \n",
    "      [141, 28,1]]                                                                                                                                       \n",
    "Y = ['man', 'woman', 'woman', 'man', 'woman']                                                                                                               \n",
    "clf = clf.fit(X, Y)                                                             \n",
    "prediction = clf.predict([[133, 37,1]])                                         \n",
    "print(prediction)    "
   ]
  },
  {
   "cell_type": "code",
   "execution_count": null,
   "metadata": {},
   "outputs": [],
   "source": [
    " "
   ]
  },
  {
   "cell_type": "code",
   "execution_count": 76,
   "metadata": {},
   "outputs": [
    {
     "data": {
      "text/plain": [
       "DecisionTreeClassifier(class_weight=None, criterion='gini', max_depth=3,\n",
       "            max_features=None, max_leaf_nodes=None,\n",
       "            min_impurity_decrease=0.0, min_impurity_split=None,\n",
       "            min_samples_leaf=5, min_samples_split=2,\n",
       "            min_weight_fraction_leaf=0.0, presort=False, random_state=100,\n",
       "            splitter='best')"
      ]
     },
     "execution_count": 76,
     "metadata": {},
     "output_type": "execute_result"
    }
   ],
   "source": [
    "clf_gini = tree.DecisionTreeClassifier(criterion = \"gini\", random_state = 100, max_depth=3, min_samples_leaf=5)\n",
    "clf_gini.fit(train.data, train.target)"
   ]
  },
  {
   "cell_type": "code",
   "execution_count": 77,
   "metadata": {},
   "outputs": [
    {
     "data": {
      "text/plain": [
       "array([ 1,  2,  2,  4, 11, 11, 11,  8,  8, 10, 11,  1,  2, 11,  4, 11, 11,\n",
       "       11,  8,  8, 10,  2,  1,  2,  2,  4, 11, 11, 11,  8,  8, 10,  2,  1,\n",
       "        2,  2,  4, 11, 11,  2,  8,  8, 10, 11,  1,  2,  2,  4, 11, 11, 11,\n",
       "        8, 10, 10, 10,  1,  2,  2,  4, 11, 11, 11,  8, 10, 10, 10,  2, 10,\n",
       "        4,  4, 11, 11,  8,  8, 10, 10, 10,  2, 10,  4,  4, 11, 11, 10,  8,\n",
       "       10, 10, 10,  2, 10,  4,  4, 11, 11, 10,  8, 10, 10, 10,  2, 10,  4,\n",
       "        4, 11, 11, 10,  8, 10, 10, 10,  2, 10,  4,  4, 11, 11, 10,  8, 10,\n",
       "       10, 10,  2, 10,  4,  4, 11, 11, 10,  8, 10, 10, 10,  1, 11, 11, 11,\n",
       "       11, 11, 11, 10, 10, 10, 10,  1, 11, 11, 11, 11, 11, 11, 10, 10, 10,\n",
       "       10,  1, 11, 11,  4, 11, 11, 11, 10, 10, 10, 10,  1, 11, 11, 11, 11,\n",
       "       11, 11,  8, 10, 10, 10,  1,  2, 11, 11, 11, 11, 11,  8, 10, 10, 10,\n",
       "        1,  2, 11, 11, 11, 11, 11,  8, 10, 10, 10,  1, 11,  4,  4, 11, 11,\n",
       "       11, 10, 10, 10, 10,  1, 11,  4,  4, 11, 11, 11, 10, 10, 10, 10,  1,\n",
       "       11,  4,  4, 11, 11, 10, 10, 10, 10, 10,  1,  2,  4,  4, 11, 11, 10,\n",
       "       10, 10, 10, 10,  1,  2, 11,  4, 11, 11, 10, 10, 10, 10, 10,  1,  2,\n",
       "       11,  4, 11, 11, 10, 10, 10, 10, 10,  1, 10, 11,  4,  4, 11, 11, 10,\n",
       "       10, 10, 11,  1, 10, 11,  4,  4, 11, 11, 10, 10, 10, 11,  1,  2, 11,\n",
       "        4,  4, 11, 11, 10, 10, 10, 10,  1,  2, 11,  4, 11, 11, 11, 10, 10,\n",
       "       10, 10,  1, 10, 11,  4, 11, 11, 11, 10, 10, 10, 10,  1, 10, 11,  4,\n",
       "       11, 11, 11, 10, 10, 10, 10, 10, 10, 11, 11, 11, 11, 10, 10, 10, 10,\n",
       "       10, 10, 10, 11, 11, 11, 11, 10, 10, 10, 10, 10, 10, 10, 11, 11, 11,\n",
       "       10, 10, 10, 10, 10, 10, 10, 10, 11, 11, 11, 10, 10, 10, 10, 10, 10,\n",
       "       10, 10, 11,  8, 11, 10, 10, 10, 10, 10, 10, 10, 10, 11, 10, 11, 10,\n",
       "       10, 10, 10, 10, 10, 10, 10, 10, 11, 11, 11, 11, 10, 10, 10, 10,  1,\n",
       "       10, 10, 11, 11, 11, 11, 10, 10, 10, 10,  1, 10, 10, 11, 11, 11, 11,\n",
       "       10, 10, 10, 10,  1, 10, 10, 11, 11, 11, 11, 10, 10, 10, 10,  2, 10,\n",
       "       10, 11, 11, 11, 10, 10, 10, 10, 10,  2, 10, 10, 11, 11, 11, 10, 10,\n",
       "       10, 10, 10], dtype=int64)"
      ]
     },
     "execution_count": 77,
     "metadata": {},
     "output_type": "execute_result"
    }
   ],
   "source": [
    "clf_gini.predict(test.data)"
   ]
  },
  {
   "cell_type": "code",
   "execution_count": 79,
   "metadata": {},
   "outputs": [
    {
     "name": "stdout",
     "output_type": "stream",
     "text": [
      "462\n"
     ]
    },
    {
     "data": {
      "text/plain": [
       "336"
      ]
     },
     "execution_count": 79,
     "metadata": {},
     "output_type": "execute_result"
    }
   ],
   "source": [
    "print(len(test.target))\n",
    "(clf_gini.predict(test.data) != test.target).sum()"
   ]
  },
  {
   "cell_type": "code",
   "execution_count": null,
   "metadata": {},
   "outputs": [],
   "source": []
  }
 ],
 "metadata": {
  "kernelspec": {
   "display_name": "Python 2",
   "language": "python",
   "name": "python2"
  },
  "language_info": {
   "codemirror_mode": {
    "name": "ipython",
    "version": 2
   },
   "file_extension": ".py",
   "mimetype": "text/x-python",
   "name": "python",
   "nbconvert_exporter": "python",
   "pygments_lexer": "ipython2",
   "version": "2.7.14"
  }
 },
 "nbformat": 4,
 "nbformat_minor": 2
}
